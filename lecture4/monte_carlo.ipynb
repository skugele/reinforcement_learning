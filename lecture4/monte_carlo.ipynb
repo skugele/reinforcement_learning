{
 "cells": [
  {
   "cell_type": "code",
   "execution_count": null,
   "metadata": {
    "collapsed": false
   },
   "outputs": [],
   "source": [
    "from numpy import *\n",
    "import numpy.matlib as matlib\n",
    "import itertools\n",
    "import sys"
   ]
  },
  {
   "cell_type": "code",
   "execution_count": null,
   "metadata": {
    "collapsed": true
   },
   "outputs": [],
   "source": [
    "DEBUG = True\n",
    "\n",
    "GRID_HEIGHT = 4\n",
    "GRID_WIDTH = 4"
   ]
  },
  {
   "cell_type": "markdown",
   "metadata": {},
   "source": [
    "<img src=\"/files/4x4%20Grid%20-%20State%20Transistion%20Diagram.png\"/>"
   ]
  },
  {
   "cell_type": "code",
   "execution_count": null,
   "metadata": {
    "collapsed": false
   },
   "outputs": [],
   "source": [
    "class Action:\n",
    "    value_map = {'up':0, 'down':1, 'left':2, 'right':3}\n",
    "    \n",
    "    def __init__(self, value):\n",
    "        self.value = value.lower()\n",
    "        self.index = self.value_map[self.value]\n",
    "       \n",
    "    def apply_to(self, state):\n",
    "        new_i = state.i\n",
    "        new_j = state.j\n",
    "            \n",
    "        if self.value == 'up':\n",
    "            new_i = state.i - 1 if state.i > 0 else state.i\n",
    "        elif self.value == 'down':\n",
    "            new_i = state.i + 1 if state.i + 1 < GRID_HEIGHT else state.i\n",
    "        elif self.value == 'left':\n",
    "            new_j = state.j - 1 if state.j > 0 else state.j\n",
    "        elif self.value == 'right':\n",
    "            new_j = state.j + 1 if state.j + 1 < GRID_WIDTH else state.j\n",
    "        \n",
    "        return State(new_i, new_j)\n",
    "            \n",
    "    def __eq__(self, other):\n",
    "        if self.index == other.index:\n",
    "            return True\n",
    "        return False\n",
    "    \n",
    "    def __str__(self):\n",
    "        return self.value"
   ]
  },
  {
   "cell_type": "code",
   "execution_count": null,
   "metadata": {
    "collapsed": true
   },
   "outputs": [],
   "source": [
    "class State:\n",
    "    def __init__(self, i, j):\n",
    "        self.i = i\n",
    "        self.j = j\n",
    "        self.index = self.i * GRID_HEIGHT + self.j\n",
    "   \n",
    "    def left_of(self, other):\n",
    "        if self.i == other.i and self.j - other.j == -1:\n",
    "            return True\n",
    "        return False\n",
    "\n",
    "    def right_of(self, other):\n",
    "        if self.i == other.i and self.j - other.j == 1:\n",
    "            return True\n",
    "        return False\n",
    "        \n",
    "    def above(self, other):\n",
    "        if self.j == other.j and self.i - other.i == -1:\n",
    "            return True\n",
    "        return False\n",
    "\n",
    "    def below(self, other):\n",
    "        if self.j == other.j and self.i - other.i == 1:\n",
    "            return True\n",
    "        return False\n",
    "    \n",
    "    def on_top_edge(self):\n",
    "        if self.i == 0:\n",
    "            return True\n",
    "        \n",
    "    def on_bottom_edge(self):\n",
    "        if self.i == GRID_HEIGHT - 1:\n",
    "            return True\n",
    "        \n",
    "    def on_left_edge(self):\n",
    "        if self.j == 0:\n",
    "            return True\n",
    "        \n",
    "    def on_right_edge(self):\n",
    "        if self.j == GRID_WIDTH - 1:\n",
    "            return True\n",
    "        \n",
    "    def __eq__(self, other):\n",
    "        if self.index == other.index:\n",
    "            return True\n",
    "        return False\n",
    "    \n",
    "    def __str__(self):\n",
    "        return 's{}{}'.format(self.i,self.j)"
   ]
  },
  {
   "cell_type": "code",
   "execution_count": null,
   "metadata": {
    "collapsed": false
   },
   "outputs": [],
   "source": [
    "actions = [Action('up'), Action('down'), Action('left'), Action('right')]\n",
    "states = [State(i,j) for i,j in itertools.product(range(GRID_HEIGHT), range(GRID_WIDTH))]\n",
    "\n",
    "# terminal states\n",
    "terminal_states = [State(0,0), State(3,3)]"
   ]
  },
  {
   "cell_type": "code",
   "execution_count": null,
   "metadata": {
    "collapsed": false
   },
   "outputs": [],
   "source": [
    "# |S| x |A|\n",
    "uni_random_policy = full(shape=(len(states), len(actions)), fill_value=0.25)"
   ]
  },
  {
   "cell_type": "code",
   "execution_count": null,
   "metadata": {
    "collapsed": false
   },
   "outputs": [],
   "source": [
    "def trans(s, a, s_p):\n",
    "    if s in terminal_states:\n",
    "        return 0.0\n",
    "    if a == Action('up'):\n",
    "        if s_p.above(s) or (s == s_p and s.on_top_edge()):\n",
    "            return 1.0\n",
    "    elif a == Action('down'):\n",
    "        if s_p.below(s) or (s == s_p and s.on_bottom_edge()):\n",
    "            return 1.0\n",
    "    elif a == Action('left'):\n",
    "        if s_p.left_of(s) or (s == s_p and s.on_left_edge()):\n",
    "            return 1.0\n",
    "    elif a == Action('right'):\n",
    "        if s_p.right_of(s) or (s == s_p and s.on_right_edge()):\n",
    "            return 1.0\n",
    "\n",
    "    return 0.0\n",
    "    \n",
    "# |S| x |A| x |S|\n",
    "p_trans = zeros(shape=(len(states), len(actions), len(states)))\n",
    "\n",
    "for s, a, s_p in itertools.product(states, actions, states):\n",
    "    p_trans[s.index, a.index, s_p.index] = trans(s, a, s_p) "
   ]
  },
  {
   "cell_type": "code",
   "execution_count": null,
   "metadata": {
    "collapsed": false
   },
   "outputs": [],
   "source": [
    "r_term = 0.0  # Reward for terminal state\n",
    "r_step = -1.0 # Reward for any non-terminal state\n",
    "\n",
    "gamma = 0.95  # Discount factor"
   ]
  },
  {
   "cell_type": "code",
   "execution_count": null,
   "metadata": {
    "collapsed": false
   },
   "outputs": [],
   "source": [
    "def reward(state, action, next_state):\n",
    "    if state in terminal_states:\n",
    "        return r_term\n",
    "    else:\n",
    "        return r_step\n",
    "\n",
    "# |S| x |A| x |S|\n",
    "r = zeros(shape=(len(states),len(actions),len(states)))\n",
    "\n",
    "for s, state in enumerate(states):\n",
    "    for a, action in enumerate(actions):\n",
    "        for s_p, next_state in enumerate(states):\n",
    "            r[s,a,s_p] = reward(state,action,next_state)"
   ]
  },
  {
   "cell_type": "code",
   "execution_count": null,
   "metadata": {
    "collapsed": false
   },
   "outputs": [],
   "source": [
    "# Add a new parameter for vk_new (this will allow modified version and non-modified version based on call)\n",
    "def policy_evaluation(policy, vk):\n",
    "    vk_new = zeros(shape=(len(states)))\n",
    "    for s, state in enumerate(states):\n",
    "        for a, action in enumerate(actions):\n",
    "            for s_p, next_state in enumerate(states):\n",
    "                vk_new[s] += policy[s, a] * p_trans[s, a, s_p] * (r[s, a, s_p] + gamma * vk[s_p])\n",
    "    return vk_new"
   ]
  },
  {
   "cell_type": "markdown",
   "metadata": {},
   "source": [
    "Evaluating Uniform Random Policy"
   ]
  },
  {
   "cell_type": "code",
   "execution_count": null,
   "metadata": {
    "collapsed": false
   },
   "outputs": [],
   "source": [
    "vk = zeros(shape=(len(states)))\n",
    "\n",
    "NUM_ITERS = 500\n",
    "for k in range(NUM_ITERS):\n",
    "    vk = policy_evaluation(uni_random_policy, vk)\n",
    "\n",
    "vk_uni = copy(vk)\n",
    "for s in states:\n",
    "    print '{} = {}'.format(s, vk_uni[s.index])"
   ]
  },
  {
   "cell_type": "code",
   "execution_count": null,
   "metadata": {
    "collapsed": true
   },
   "outputs": [],
   "source": [
    "from random import choice\n",
    "\n",
    "def random_action():\n",
    "    return choice(actions)\n",
    "\n",
    "def random_state():\n",
    "    return choice(states)\n",
    "\n",
    "def discount(time):\n",
    "    if time == 0:\n",
    "        return 1\n",
    "    \n",
    "    return gamma ** time"
   ]
  },
  {
   "cell_type": "code",
   "execution_count": null,
   "metadata": {
    "collapsed": false
   },
   "outputs": [],
   "source": [
    "class Event(object):\n",
    "    def __init__(self, state, action=None, next_state=None):\n",
    "        self.state = state\n",
    "        self.action = action\n",
    "        self.next_state = next_state\n",
    "\n",
    "    def __str__(self):\n",
    "        return '{},{},{}'.format(self.state, self.action, self.next_state)\n",
    "        \n",
    "def generate_episode():\n",
    "    \n",
    "    # Add random initial state\n",
    "    events = [Event(state=random_state())]\n",
    "\n",
    "    while events[-1].state not in terminal_states:\n",
    "        events[-1].action = random_action()\n",
    "        events[-1].next_state = events[-1].action.apply_to(events[-1].state)\n",
    "        \n",
    "        events.append(Event(state=events[-1].next_state))\n",
    "\n",
    "    return events"
   ]
  },
  {
   "cell_type": "code",
   "execution_count": null,
   "metadata": {
    "collapsed": false
   },
   "outputs": [],
   "source": [
    "def calculate_return(trajectory):\n",
    "    value = 0.0\n",
    "    \n",
    "    for event, t in zip(trajectory, range(len(trajectory))):\n",
    "        value += gamma**t * reward(event.state, event.action, event.next_state)\n",
    "        \n",
    "    return value\n",
    "\n",
    "def no_progress(V1, V2, theta):\n",
    "    if not (V1 and V2):\n",
    "        return False\n",
    "    \n",
    "    diffs = [abs(v1 - v2) for v1, v2 in zip(V1, V2)]\n",
    "    if max(diffs) < theta:\n",
    "        return True\n",
    "    \n",
    "    return False"
   ]
  },
  {
   "cell_type": "markdown",
   "metadata": {},
   "source": [
    "# Monte-Carlo Prediction\n",
    "\n",
    "## Two methods:\n",
    "\n",
    "1. First Visit Monte-Carlo Prediction\n",
    "2. Every Visit Monte-Carlo Prediction"
   ]
  },
  {
   "cell_type": "code",
   "execution_count": null,
   "metadata": {
    "collapsed": false
   },
   "outputs": [],
   "source": [
    "from collections import namedtuple\n",
    "\n",
    "Result = namedtuple('Result', ['state_values', 'iters'])\n",
    "\n",
    "# Monte Carlo Algorithms\n",
    "FIRST_VISIT = 0\n",
    "EVERY_VISIT = 1\n",
    "\n",
    "def monte_carlo_prediction(algorithm, max_iters=1e6, max_no_progress=100, theta=1.0e-3):\n",
    "\n",
    "    # state visit counters (one element per state)\n",
    "    N = [0] * len(states)\n",
    "\n",
    "    # total returns (one element per state)\n",
    "    S = [0.0] * len(states)\n",
    "    \n",
    "    # state-value function approximation\n",
    "    V = [0.0] * len(states)\n",
    "    V_old = None\n",
    "    \n",
    "    iters = 0\n",
    "    iters_no_progress = 0\n",
    "    \n",
    "    while not (iters >= max_iters or iters_no_progress >= max_no_progress):\n",
    "        \n",
    "        if no_progress(V, V_old, theta):\n",
    "            iters_no_progress += 1\n",
    "        else:\n",
    "            iters_no_progress = 0\n",
    "            \n",
    "        # states already visited in this episode\n",
    "        visited = []\n",
    "        V_old = list(V)\n",
    "        \n",
    "        episode = generate_episode()\n",
    "        for i, event in enumerate(episode):\n",
    "        \n",
    "            # \"First-Visit Monte Carlo\" only includes returns \n",
    "            # when a state is first visited.  Other visits are bypassed.\n",
    "            if algorithm == FIRST_VISIT and event.state in visited:\n",
    "                continue\n",
    "\n",
    "            visited.append(event.state)\n",
    "\n",
    "            # Trajectory includes all states visited from this point\n",
    "            # until the end of the episode\n",
    "            trajectory = episode[i:]\n",
    "            \n",
    "            N[event.state.index] += 1\n",
    "            S[event.state.index] += calculate_return(trajectory)\n",
    "            V[event.state.index] = S[event.state.index] / N[event.state.index]\n",
    "                               \n",
    "        iters += 1\n",
    "\n",
    "    return Result(state_values=V, iters=iters)"
   ]
  },
  {
   "cell_type": "code",
   "execution_count": null,
   "metadata": {
    "collapsed": false
   },
   "outputs": [],
   "source": [
    "result = monte_carlo_prediction(algorithm=FIRST_VISIT, max_iters=100000, theta=1.0e-4)\n",
    "     \n",
    "for v in result.state_values:\n",
    "    print v\n",
    "    \n",
    "print \"iters: \", result.iters"
   ]
  },
  {
   "cell_type": "code",
   "execution_count": null,
   "metadata": {
    "collapsed": false
   },
   "outputs": [],
   "source": [
    "result = monte_carlo_prediction(algorithm=EVERY_VISIT, max_iters=100000, theta=1.0e-4)\n",
    "     \n",
    "for v in result.state_values:\n",
    "    print v\n",
    "    \n",
    "print \"iters: \", result.iters"
   ]
  },
  {
   "cell_type": "code",
   "execution_count": null,
   "metadata": {
    "collapsed": true
   },
   "outputs": [],
   "source": [
    "def incremental_monte_carlo_prediction(algorithm, max_iters=1e6, max_no_progress=100, theta=1.0e-3, alpha=0.001):\n",
    "   \n",
    "    # state-value function approximation\n",
    "    V = [0.0] * len(states)\n",
    "    V_old = None\n",
    "    \n",
    "    iters = 0\n",
    "    iters_no_progress = 0\n",
    "    \n",
    "    while not (iters >= max_iters or iters_no_progress >= max_no_progress):\n",
    "        \n",
    "        if no_progress(V, V_old, theta):\n",
    "            iters_no_progress += 1\n",
    "        else:\n",
    "            iters_no_progress = 0\n",
    "            \n",
    "        # states already visited in this episode\n",
    "        visited = []\n",
    "        V_old = list(V)\n",
    "        \n",
    "        episode = generate_episode()\n",
    "        for i, event in enumerate(episode):\n",
    "        \n",
    "            s = event.state\n",
    "            \n",
    "            # \"First-Visit Monte Carlo\" only includes returns \n",
    "            # when a state is first visited.  Other visits are bypassed.\n",
    "            if algorithm == FIRST_VISIT:\n",
    "                if s in visited:\n",
    "                    continue\n",
    "\n",
    "            visited.append(s)\n",
    "\n",
    "            # Trajectory includes all states visited from this point\n",
    "            # until the end of the episode\n",
    "            trajectory = episode[i:]\n",
    "\n",
    "            Gt = calculate_return(trajectory)\n",
    "            \n",
    "            V[s.index] = V[s.index] + alpha * (Gt - V[s.index])\n",
    "                               \n",
    "        iters += 1\n",
    "\n",
    "    return Result(state_values=V, iters=iters)"
   ]
  },
  {
   "cell_type": "code",
   "execution_count": null,
   "metadata": {
    "collapsed": false
   },
   "outputs": [],
   "source": [
    "result = incremental_monte_carlo_prediction(algorithm=FIRST_VISIT, max_iters=1000000, theta=1.0e-4)\n",
    "     \n",
    "for v in result.state_values:\n",
    "    print v\n",
    "    \n",
    "print \"iters: \", result.iters"
   ]
  },
  {
   "cell_type": "code",
   "execution_count": null,
   "metadata": {
    "collapsed": false
   },
   "outputs": [],
   "source": [
    "result = incremental_monte_carlo_prediction(algorithm=EVERY_VISIT, max_iters=100000, theta=1.0e-4)\n",
    "     \n",
    "for v in result.state_values:\n",
    "    print v\n",
    "    \n",
    "print \"iters: \", result.iters"
   ]
  },
  {
   "cell_type": "code",
   "execution_count": null,
   "metadata": {
    "collapsed": false
   },
   "outputs": [],
   "source": [
    "import numpy as np\n",
    "\n",
    "def root_mean_sqr_err(expected, actual):\n",
    "    return np.sqrt(((expected - actual)**2).mean)"
   ]
  },
  {
   "cell_type": "code",
   "execution_count": null,
   "metadata": {
    "collapsed": true
   },
   "outputs": [],
   "source": []
  }
 ],
 "metadata": {
  "kernelspec": {
   "display_name": "Python 2",
   "language": "python",
   "name": "python2"
  },
  "language_info": {
   "codemirror_mode": {
    "name": "ipython",
    "version": 2
   },
   "file_extension": ".py",
   "mimetype": "text/x-python",
   "name": "python",
   "nbconvert_exporter": "python",
   "pygments_lexer": "ipython2",
   "version": "2.7.6"
  }
 },
 "nbformat": 4,
 "nbformat_minor": 1
}
