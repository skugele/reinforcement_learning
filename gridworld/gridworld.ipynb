{
 "cells": [
  {
   "cell_type": "code",
   "execution_count": 18,
   "metadata": {
    "collapsed": false
   },
   "outputs": [],
   "source": [
    "from numpy import *\n",
    "import numpy.matlib as matlib\n",
    "import itertools"
   ]
  },
  {
   "cell_type": "code",
   "execution_count": 19,
   "metadata": {
    "collapsed": false
   },
   "outputs": [],
   "source": [
    "DEBUG = False\n",
    "\n",
    "GRID_HEIGHT = 4\n",
    "GRID_WIDTH = 4\n",
    "\n",
    "class Action:\n",
    "    value_map = {'up':0, 'down':1, 'left':2, 'right':3}\n",
    "    \n",
    "    def __init__(self, value):\n",
    "        self.value = value.lower()\n",
    "        self.index = self.value_map[self.value]\n",
    "        \n",
    "    def __eq__(self, other):\n",
    "        if self.index == other.index:\n",
    "            return True\n",
    "        return False\n",
    "    \n",
    "    def __str__(self):\n",
    "        return self.value\n",
    "    \n",
    "    \n",
    "class State:\n",
    "    def __init__(self, i, j):\n",
    "        self.i = i\n",
    "        self.j = j\n",
    "        self.index = self.i * GRID_HEIGHT + self.j\n",
    "   \n",
    "    def left_of(self, other):\n",
    "        if self.i == other.i and self.j - other.j == -1:\n",
    "            return True\n",
    "        return False\n",
    "\n",
    "    def right_of(self, other):\n",
    "        if self.i == other.i and self.j - other.j == 1:\n",
    "            return True\n",
    "        return False\n",
    "\n",
    "    def above(self, other):\n",
    "        if self.j == other.j and self.i - other.i == -1:\n",
    "            return True\n",
    "        return False\n",
    "\n",
    "    def below(self, other):\n",
    "        if self.j == other.j and self.i - other.i == 1:\n",
    "            return True\n",
    "        return False\n",
    "    \n",
    "    def on_top_edge(self):\n",
    "        if self.i == 0:\n",
    "            return True\n",
    "        \n",
    "    def on_bottom_edge(self):\n",
    "        if self.i == GRID_HEIGHT - 1:\n",
    "            return True\n",
    "        \n",
    "    def on_left_edge(self):\n",
    "        if self.j == 0:\n",
    "            return True\n",
    "        \n",
    "    def on_right_edge(self):\n",
    "        if self.j == GRID_WIDTH - 1:\n",
    "            return True\n",
    "    \n",
    "    def __eq__(self, other):\n",
    "        if self.index == other.index:\n",
    "            return True\n",
    "        return False\n",
    "    \n",
    "    def __str__(self):\n",
    "        return 's{}{}'.format(self.i,self.j)\n",
    "    \n",
    "actions = [Action('up'), Action('down'), Action('left'), Action('right')]\n",
    "states = [State(i,j) for i,j in itertools.product(range(GRID_HEIGHT), range(GRID_WIDTH))]\n",
    "\n",
    "# terminal states\n",
    "s_term = [State(0,0), State(3,3)]"
   ]
  },
  {
   "cell_type": "code",
   "execution_count": 3,
   "metadata": {
    "collapsed": false
   },
   "outputs": [],
   "source": [
    "# |S| x |A|\n",
    "p_policy = full(shape=(len(states), len(actions)), fill_value=0.25)"
   ]
  },
  {
   "cell_type": "code",
   "execution_count": 20,
   "metadata": {
    "collapsed": false
   },
   "outputs": [],
   "source": [
    "def trans(s, a, s_p):\n",
    "    if s in s_term:\n",
    "        return 0.0\n",
    "    if a == Action('up'):\n",
    "        if s_p.above(s) or (s == s_p and s.on_top_edge()):\n",
    "            return 1.0\n",
    "    elif a == Action('down'):\n",
    "        if s_p.below(s) or (s == s_p and s.on_bottom_edge()):\n",
    "            return 1.0\n",
    "    elif a == Action('left'):\n",
    "        if s_p.left_of(s) or (s == s_p and s.on_left_edge()):\n",
    "            return 1.0\n",
    "    elif a == Action('right'):\n",
    "        if s_p.right_of(s) or (s == s_p and s.on_right_edge()):\n",
    "            return 1.0\n",
    "\n",
    "    return 0.0\n",
    "    \n",
    "# |S| x |A| x |S|\n",
    "p_trans = zeros(shape=(len(states), len(actions), len(states)))\n",
    "\n",
    "for s, a, s_p in itertools.product(states, actions, states):\n",
    "    p_trans[s.index, a.index, s_p.index] = trans(s, a, s_p) "
   ]
  },
  {
   "cell_type": "code",
   "execution_count": 22,
   "metadata": {
    "collapsed": false
   },
   "outputs": [
    {
     "name": "stdout",
     "output_type": "stream",
     "text": [
      "p_trans[s32,up,s22] = 1.0\n",
      "p_trans[s32,down,s32] = 1.0\n",
      "p_trans[s32,left,s31] = 1.0\n",
      "p_trans[s32,right,s33] = 1.0\n"
     ]
    }
   ],
   "source": [
    "s = State(3,2)\n",
    "    \n",
    "for a in actions:\n",
    "    for s_p in states:\n",
    "        p = p_trans[s.index, a.index, s_p.index]\n",
    "        if p:\n",
    "            print 'p_trans[{},{},{}] = {}'.format(s,a,s_p,p_trans[s.index, a.index, s_p.index])"
   ]
  },
  {
   "cell_type": "code",
   "execution_count": 23,
   "metadata": {
    "collapsed": false
   },
   "outputs": [],
   "source": [
    "r_term = 0.0  # Reward of terminal state\n",
    "r_step = -1.0 # Reward for any non-terminal state\n",
    "\n",
    "gamma = 1.0  # Discount factor"
   ]
  },
  {
   "cell_type": "code",
   "execution_count": 24,
   "metadata": {
    "collapsed": false
   },
   "outputs": [],
   "source": [
    "def reward(state, action, next_state):\n",
    "    if state in s_term:\n",
    "        return r_term\n",
    "    else:\n",
    "        return r_step\n",
    "\n",
    "# |S| x |A| x |S|\n",
    "r = zeros(shape=(len(states),len(actions),len(states)))\n",
    "\n",
    "for s, state in enumerate(states):\n",
    "    for a, action in enumerate(actions):\n",
    "        for s_p, next_state in enumerate(states):\n",
    "            r[s,a,s_p] = reward(state,action,next_state)"
   ]
  },
  {
   "cell_type": "code",
   "execution_count": 25,
   "metadata": {
    "collapsed": false
   },
   "outputs": [],
   "source": [
    "def value_iteration(vk, vk_new):\n",
    "    for s, state in enumerate(states):\n",
    "        vk_new[s] = 0\n",
    "        for a, action in enumerate(actions):\n",
    "            for s_p, next_state in enumerate(states):\n",
    "                vk_new[s] += p_policy[s, a] * p_trans[s, a, s_p] * (r[s, a, s_p] + gamma * vk[s_p])  \n",
    "                \n",
    "                if DEBUG:\n",
    "                    print 's, a, s_p = ({}, {}, {})'.format(state, action, next_state)\n",
    "                    print 'p = {}'.format(p_policy[s, a] * p_trans[s, a, s_p])\n",
    "                    print 'r[s, a, s_p] = {}'.format(r[s, a, s_p])\n",
    "                    print 'vk[s_p] = {}'.format(vk[s])\n",
    "                    print 'vk_new[s] = {}'.format(vk_new[s])\n",
    "                    print '**********************************'\n",
    "              "
   ]
  },
  {
   "cell_type": "code",
   "execution_count": 27,
   "metadata": {
    "collapsed": false
   },
   "outputs": [
    {
     "name": "stdout",
     "output_type": "stream",
     "text": [
      "s00 = 0.0\n",
      "s01 = -13.9997574073\n",
      "s02 = -19.9996405213\n",
      "s03 = -21.9995977221\n",
      "s10 = -13.9997574073\n",
      "s11 = -17.9996833205\n",
      "s12 = -19.999642926\n",
      "s13 = -19.9996405213\n",
      "s20 = -19.9996405213\n",
      "s21 = -19.999642926\n",
      "s22 = -17.9996833205\n",
      "s23 = -13.9997574073\n",
      "s30 = -21.9995977221\n",
      "s31 = -19.9996405213\n",
      "s32 = -13.9997574073\n",
      "s33 = 0.0\n"
     ]
    }
   ],
   "source": [
    "vk = zeros(shape=(len(states)))\n",
    "vk_new = zeros(shape=(len(states)))\n",
    "\n",
    "for k in range(200):\n",
    "    value_iteration(vk, vk_new)\n",
    "    vk = copy(vk_new)\n",
    "        \n",
    "for s in states:\n",
    "    print '{} = {}'.format(s, vk[s.index])"
   ]
  },
  {
   "cell_type": "code",
   "execution_count": null,
   "metadata": {
    "collapsed": true
   },
   "outputs": [],
   "source": [
    "def improve_policy(p_policy):\n",
    "    pass"
   ]
  }
 ],
 "metadata": {
  "kernelspec": {
   "display_name": "Python 2",
   "language": "python",
   "name": "python2"
  },
  "language_info": {
   "codemirror_mode": {
    "name": "ipython",
    "version": 2
   },
   "file_extension": ".py",
   "mimetype": "text/x-python",
   "name": "python",
   "nbconvert_exporter": "python",
   "pygments_lexer": "ipython2",
   "version": "2.7.6"
  }
 },
 "nbformat": 4,
 "nbformat_minor": 1
}
