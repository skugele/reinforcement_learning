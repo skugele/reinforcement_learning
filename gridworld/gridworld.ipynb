{
 "cells": [
  {
   "cell_type": "code",
   "execution_count": 1,
   "metadata": {
    "collapsed": false
   },
   "outputs": [],
   "source": [
    "from numpy import *\n",
    "import numpy.matlib as matlib\n",
    "import itertools\n",
    "import sys"
   ]
  },
  {
   "cell_type": "code",
   "execution_count": 2,
   "metadata": {
    "collapsed": false
   },
   "outputs": [],
   "source": [
    "DEBUG = True\n",
    "\n",
    "GRID_HEIGHT = 4\n",
    "GRID_WIDTH = 4\n",
    "\n",
    "class Action:\n",
    "    value_map = {'up':0, 'down':1, 'left':2, 'right':3}\n",
    "    \n",
    "    def __init__(self, value):\n",
    "        self.value = value.lower()\n",
    "        self.index = self.value_map[self.value]\n",
    "        \n",
    "    def __eq__(self, other):\n",
    "        if self.index == other.index:\n",
    "            return True\n",
    "        return False\n",
    "    \n",
    "    def __str__(self):\n",
    "        return self.value\n",
    "    \n",
    "    \n",
    "class State:\n",
    "    def __init__(self, i, j):\n",
    "        self.i = i\n",
    "        self.j = j\n",
    "        self.index = self.i * GRID_HEIGHT + self.j\n",
    "   \n",
    "    def left_of(self, other):\n",
    "        if self.i == other.i and self.j - other.j == -1:\n",
    "            return True\n",
    "        return False\n",
    "\n",
    "    def right_of(self, other):\n",
    "        if self.i == other.i and self.j - other.j == 1:\n",
    "            return True\n",
    "        return False\n",
    "\n",
    "    def above(self, other):\n",
    "        if self.j == other.j and self.i - other.i == -1:\n",
    "            return True\n",
    "        return False\n",
    "\n",
    "    def below(self, other):\n",
    "        if self.j == other.j and self.i - other.i == 1:\n",
    "            return True\n",
    "        return False\n",
    "    \n",
    "    def on_top_edge(self):\n",
    "        if self.i == 0:\n",
    "            return True\n",
    "        \n",
    "    def on_bottom_edge(self):\n",
    "        if self.i == GRID_HEIGHT - 1:\n",
    "            return True\n",
    "        \n",
    "    def on_left_edge(self):\n",
    "        if self.j == 0:\n",
    "            return True\n",
    "        \n",
    "    def on_right_edge(self):\n",
    "        if self.j == GRID_WIDTH - 1:\n",
    "            return True\n",
    "        \n",
    "    def __eq__(self, other):\n",
    "        if self.index == other.index:\n",
    "            return True\n",
    "        return False\n",
    "    \n",
    "    def __str__(self):\n",
    "        return 's{}{}'.format(self.i,self.j)\n",
    "    \n",
    "actions = [Action('up'), Action('down'), Action('left'), Action('right')]\n",
    "states = [State(i,j) for i,j in itertools.product(range(GRID_HEIGHT), range(GRID_WIDTH))]\n",
    "\n",
    "# terminal states\n",
    "s_term = [State(0,0), State(3,3)]"
   ]
  },
  {
   "cell_type": "code",
   "execution_count": 3,
   "metadata": {
    "collapsed": false
   },
   "outputs": [],
   "source": [
    "# |S| x |A|\n",
    "uni_random_policy = full(shape=(len(states), len(actions)), fill_value=0.25)"
   ]
  },
  {
   "cell_type": "code",
   "execution_count": 4,
   "metadata": {
    "collapsed": false
   },
   "outputs": [],
   "source": [
    "def trans(s, a, s_p):\n",
    "    if s in s_term:\n",
    "        return 0.0\n",
    "    if a == Action('up'):\n",
    "        if s_p.above(s) or (s == s_p and s.on_top_edge()):\n",
    "            return 1.0\n",
    "    elif a == Action('down'):\n",
    "        if s_p.below(s) or (s == s_p and s.on_bottom_edge()):\n",
    "            return 1.0\n",
    "    elif a == Action('left'):\n",
    "        if s_p.left_of(s) or (s == s_p and s.on_left_edge()):\n",
    "            return 1.0\n",
    "    elif a == Action('right'):\n",
    "        if s_p.right_of(s) or (s == s_p and s.on_right_edge()):\n",
    "            return 1.0\n",
    "\n",
    "    return 0.0\n",
    "    \n",
    "# |S| x |A| x |S|\n",
    "p_trans = zeros(shape=(len(states), len(actions), len(states)))\n",
    "\n",
    "for s, a, s_p in itertools.product(states, actions, states):\n",
    "    p_trans[s.index, a.index, s_p.index] = trans(s, a, s_p) "
   ]
  },
  {
   "cell_type": "code",
   "execution_count": 5,
   "metadata": {
    "collapsed": false
   },
   "outputs": [
    {
     "name": "stdout",
     "output_type": "stream",
     "text": [
      "p_trans[s32,up,s22] = 1.0\n",
      "p_trans[s32,down,s32] = 1.0\n",
      "p_trans[s32,left,s31] = 1.0\n",
      "p_trans[s32,right,s33] = 1.0\n"
     ]
    }
   ],
   "source": [
    "s = State(3,2)\n",
    "    \n",
    "for a in actions:\n",
    "    for s_p in states:\n",
    "        p = p_trans[s.index, a.index, s_p.index]\n",
    "        if p:\n",
    "            print 'p_trans[{},{},{}] = {}'.format(s,a,s_p,p_trans[s.index, a.index, s_p.index])"
   ]
  },
  {
   "cell_type": "code",
   "execution_count": 6,
   "metadata": {
    "collapsed": false
   },
   "outputs": [],
   "source": [
    "r_term = 0.0  # Reward of terminal state\n",
    "r_step = -1.0 # Reward for any non-terminal state\n",
    "\n",
    "gamma = 1.0  # Discount factor"
   ]
  },
  {
   "cell_type": "code",
   "execution_count": 7,
   "metadata": {
    "collapsed": false
   },
   "outputs": [],
   "source": [
    "def reward(state, action, next_state):\n",
    "    if state in s_term:\n",
    "        return r_term\n",
    "    else:\n",
    "        return r_step\n",
    "\n",
    "# |S| x |A| x |S|\n",
    "r = zeros(shape=(len(states),len(actions),len(states)))\n",
    "\n",
    "for s, state in enumerate(states):\n",
    "    for a, action in enumerate(actions):\n",
    "        for s_p, next_state in enumerate(states):\n",
    "            r[s,a,s_p] = reward(state,action,next_state)"
   ]
  },
  {
   "cell_type": "code",
   "execution_count": 8,
   "metadata": {
    "collapsed": false
   },
   "outputs": [],
   "source": [
    "def policy_evaluation(policy, vk):\n",
    "    vk_new = zeros(shape=(len(states)))\n",
    "    for s, state in enumerate(states):\n",
    "        for a, action in enumerate(actions):\n",
    "            for s_p, next_state in enumerate(states):\n",
    "                vk_new[s] += policy[s, a] * p_trans[s, a, s_p] * (r[s, a, s_p] + gamma * vk[s_p])\n",
    "    return vk_new"
   ]
  },
  {
   "cell_type": "markdown",
   "metadata": {},
   "source": [
    "Evaluating Uniform Random Policy"
   ]
  },
  {
   "cell_type": "code",
   "execution_count": 9,
   "metadata": {
    "collapsed": false
   },
   "outputs": [
    {
     "name": "stdout",
     "output_type": "stream",
     "text": [
      "s00 = 0.0\n",
      "s01 = -13.9426050861\n",
      "s02 = -19.914951073\n",
      "s03 = -21.904825221\n",
      "s10 = -13.9426050861\n",
      "s11 = -17.925076925\n",
      "s12 = -19.9155199931\n",
      "s13 = -19.914951073\n",
      "s20 = -19.914951073\n",
      "s21 = -19.9155199931\n",
      "s22 = -17.925076925\n",
      "s23 = -13.9426050861\n",
      "s30 = -21.904825221\n",
      "s31 = -19.914951073\n",
      "s32 = -13.9426050861\n",
      "s33 = 0.0\n"
     ]
    }
   ],
   "source": [
    "vk = zeros(shape=(len(states)))\n",
    "\n",
    "NUM_ITERS = 100\n",
    "for k in range(NUM_ITERS):\n",
    "    vk = policy_evaluation(uni_random_policy, vk)\n",
    "\n",
    "vk_uni = copy(vk)\n",
    "for s in states:\n",
    "    print '{} = {}'.format(s, vk_uni[s.index])"
   ]
  },
  {
   "cell_type": "code",
   "execution_count": 10,
   "metadata": {
    "collapsed": false
   },
   "outputs": [],
   "source": [
    "def policy_improvement(vk):\n",
    "    \n",
    "    new_policy = zeros(shape=(len(states), len(actions)))\n",
    "    for s, state in enumerate(states):\n",
    "        max_a = None\n",
    "        max_vk = -sys.maxint - 1\n",
    "        for a, action in enumerate(actions):\n",
    "            vk_cand = 0.0\n",
    "            for s_p, next_state in enumerate(states):\n",
    "                vk_cand += p_trans[s, a, s_p] * (r[s, a, s_p] + gamma * vk[s_p])  \n",
    "            \n",
    "            if vk_cand > max_vk:\n",
    "                max_vk = vk_cand\n",
    "                max_a = a\n",
    "            \n",
    "        new_policy[s, max_a] = 1.0\n",
    "        \n",
    "    return new_policy"
   ]
  },
  {
   "cell_type": "markdown",
   "metadata": {},
   "source": [
    "Determine the optimal policy from the state value function for uniform random policy."
   ]
  },
  {
   "cell_type": "code",
   "execution_count": 11,
   "metadata": {
    "collapsed": false
   },
   "outputs": [],
   "source": [
    "optimal_policy = policy_improvement(vk_uni)"
   ]
  },
  {
   "cell_type": "code",
   "execution_count": 12,
   "metadata": {
    "collapsed": false
   },
   "outputs": [
    {
     "data": {
      "text/plain": [
       "array([[ 1.,  0.,  0.,  0.],\n",
       "       [ 0.,  0.,  1.,  0.],\n",
       "       [ 0.,  0.,  1.,  0.],\n",
       "       [ 0.,  1.,  0.,  0.],\n",
       "       [ 1.,  0.,  0.,  0.],\n",
       "       [ 0.,  0.,  1.,  0.],\n",
       "       [ 0.,  1.,  0.,  0.],\n",
       "       [ 0.,  1.,  0.,  0.],\n",
       "       [ 1.,  0.,  0.,  0.],\n",
       "       [ 1.,  0.,  0.,  0.],\n",
       "       [ 0.,  1.,  0.,  0.],\n",
       "       [ 0.,  1.,  0.,  0.],\n",
       "       [ 1.,  0.,  0.,  0.],\n",
       "       [ 0.,  0.,  0.,  1.],\n",
       "       [ 0.,  0.,  0.,  1.],\n",
       "       [ 1.,  0.,  0.,  0.]])"
      ]
     },
     "execution_count": 12,
     "metadata": {},
     "output_type": "execute_result"
    }
   ],
   "source": [
    "optimal_policy"
   ]
  },
  {
   "cell_type": "markdown",
   "metadata": {},
   "source": [
    "Evaluating State Value Function For Optimal Policy"
   ]
  },
  {
   "cell_type": "code",
   "execution_count": 13,
   "metadata": {
    "collapsed": false
   },
   "outputs": [
    {
     "name": "stdout",
     "output_type": "stream",
     "text": [
      "s00 = 0.0\n",
      "s01 = -1.0\n",
      "s02 = -2.0\n",
      "s03 = -3.0\n",
      "s10 = -1.0\n",
      "s11 = -2.0\n",
      "s12 = -3.0\n",
      "s13 = -2.0\n",
      "s20 = -2.0\n",
      "s21 = -3.0\n",
      "s22 = -2.0\n",
      "s23 = -1.0\n",
      "s30 = -3.0\n",
      "s31 = -2.0\n",
      "s32 = -1.0\n",
      "s33 = 0.0\n"
     ]
    }
   ],
   "source": [
    "vk_star = zeros(shape=(len(states)))\n",
    "\n",
    "NUM_ITERS = 100\n",
    "for k in range(NUM_ITERS):\n",
    "    vk_star = policy_evaluation(optimal_policy, vk_star)\n",
    "        \n",
    "for s in states:\n",
    "    print '{} = {}'.format(s, vk_star[s.index])"
   ]
  },
  {
   "cell_type": "code",
   "execution_count": 14,
   "metadata": {
    "collapsed": false
   },
   "outputs": [],
   "source": [
    "def policy_iteration(policy, vk, k_iters=1, epsilon=1e-4):\n",
    "\n",
    "    stable_policy = False\n",
    "    while not stable_policy:\n",
    "        for k in range(k_iters):\n",
    "            vk = policy_evaluation(policy, vk)\n",
    "       \n",
    "        new_policy = policy_improvement(vk)\n",
    "\n",
    "        stable_policy = True\n",
    "        for s in states:\n",
    "            for a in actions:\n",
    "                if abs(policy[s.index, a.index] - new_policy[s.index, a.index]) > epsilon:\n",
    "                    stable_policy = False\n",
    "                    \n",
    "        policy = copy(new_policy)\n",
    "            \n",
    "    return policy, vk"
   ]
  },
  {
   "cell_type": "code",
   "execution_count": 15,
   "metadata": {
    "collapsed": false
   },
   "outputs": [],
   "source": [
    "vk = zeros(shape=(len(states)))\n",
    "policy_star, vk_star = policy_iteration(uni_random_policy, vk, k_iters=1)"
   ]
  },
  {
   "cell_type": "code",
   "execution_count": 16,
   "metadata": {
    "collapsed": false
   },
   "outputs": [
    {
     "data": {
      "text/plain": [
       "array([ 0., -1., -2., -3., -1., -2., -3., -2., -2., -3., -2., -1., -3.,\n",
       "       -2., -1.,  0.])"
      ]
     },
     "execution_count": 16,
     "metadata": {},
     "output_type": "execute_result"
    }
   ],
   "source": [
    "vk_star"
   ]
  },
  {
   "cell_type": "code",
   "execution_count": 17,
   "metadata": {
    "collapsed": false
   },
   "outputs": [
    {
     "data": {
      "text/plain": [
       "array([[ 1.,  0.,  0.,  0.],\n",
       "       [ 0.,  0.,  1.,  0.],\n",
       "       [ 0.,  0.,  1.,  0.],\n",
       "       [ 0.,  1.,  0.,  0.],\n",
       "       [ 1.,  0.,  0.,  0.],\n",
       "       [ 1.,  0.,  0.,  0.],\n",
       "       [ 1.,  0.,  0.,  0.],\n",
       "       [ 0.,  1.,  0.,  0.],\n",
       "       [ 1.,  0.,  0.,  0.],\n",
       "       [ 1.,  0.,  0.,  0.],\n",
       "       [ 0.,  1.,  0.,  0.],\n",
       "       [ 0.,  1.,  0.,  0.],\n",
       "       [ 1.,  0.,  0.,  0.],\n",
       "       [ 0.,  0.,  0.,  1.],\n",
       "       [ 0.,  0.,  0.,  1.],\n",
       "       [ 1.,  0.,  0.,  0.]])"
      ]
     },
     "execution_count": 17,
     "metadata": {},
     "output_type": "execute_result"
    }
   ],
   "source": [
    "policy_star"
   ]
  }
 ],
 "metadata": {
  "kernelspec": {
   "display_name": "Python 2",
   "language": "python",
   "name": "python2"
  },
  "language_info": {
   "codemirror_mode": {
    "name": "ipython",
    "version": 2
   },
   "file_extension": ".py",
   "mimetype": "text/x-python",
   "name": "python",
   "nbconvert_exporter": "python",
   "pygments_lexer": "ipython2",
   "version": "2.7.6"
  }
 },
 "nbformat": 4,
 "nbformat_minor": 1
}
